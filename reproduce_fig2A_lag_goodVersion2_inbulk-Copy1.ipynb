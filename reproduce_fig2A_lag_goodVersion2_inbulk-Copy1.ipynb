{
 "cells": [
  {
   "cell_type": "code",
   "execution_count": 1,
   "id": "7a0a9fcf",
   "metadata": {},
   "outputs": [],
   "source": [
    "import numpy as np\n",
    "import math\n",
    "import scipy.optimize as optimize\n",
    "import matplotlib.pyplot as plt"
   ]
  },
  {
   "cell_type": "markdown",
   "id": "e3d55a5d",
   "metadata": {},
   "source": [
    "## generate pools\n",
    "\n",
    "for one pool(100 pools) with ns(5000) species, all species are not anomolous species. (consider add anomolous species) \n",
    "number of resources: nr ( nr = 1,2,...,7)\n",
    "\n",
    "we need generate the growth rate $g_{\\mu i}$. $\\sum_i g_{\\mu i}^2=1 \\mathrm{hr}^{-2}$"
   ]
  },
  {
   "cell_type": "code",
   "execution_count": 2,
   "id": "353e62bc",
   "metadata": {},
   "outputs": [],
   "source": [
    "def generate_anomolous_species(ns, nr):\n",
    "    vector = []\n",
    "    for _ in range(ns):\n",
    "        vector = np.random.uniform(0,1,size=nr)\n",
    "        vector /= np.linalg.norm(vector)\n",
    "        vectors.append(vector)\n",
    "    return vectors"
   ]
  },
  {
   "cell_type": "code",
   "execution_count": 3,
   "id": "90a5877e",
   "metadata": {},
   "outputs": [],
   "source": [
    "def generate_anomolous_nutrient_rank(ns, nr):\n",
    "    vectors = []\n",
    "    for _ in range(ns):\n",
    "        vector = random.sample(range(nr), nr)\n",
    "        vectors.append(vector)\n",
    "    return vectors"
   ]
  },
  {
   "cell_type": "code",
   "execution_count": 4,
   "id": "e95b7ccc",
   "metadata": {},
   "outputs": [],
   "source": [
    "def generate_random_vectors(ns, nr):\n",
    "    vectors = []\n",
    "    ranks = []\n",
    "\n",
    "    for _ in range(ns):\n",
    "        vector = np.random.uniform(0,1,size=nr)\n",
    "        vector /= np.linalg.norm(vector)\n",
    "        vectors.append(vector)\n",
    "\n",
    "        # Generate ranks\n",
    "        rank = np.argsort(-vector)\n",
    "        ranks.append(rank)\n",
    "\n",
    "    return vectors, ranks\n",
    "\n",
    "##the rank should be used like maxrate-vectors[rank[0]], secondrate-vectors[rank[1]]..."
   ]
  },
  {
   "cell_type": "code",
   "execution_count": 5,
   "id": "787bf673",
   "metadata": {},
   "outputs": [
    {
     "data": {
      "text/plain": [
       "'\\nspciesGR = []\\nrank = []\\nfor i in range(ns):\\n    spciesGR.append(generate_anomolous_species(ns, nr))\\n    rank.append(generate_anomolous_nutrient_rank(ns, nr))\\n'"
      ]
     },
     "execution_count": 5,
     "metadata": {},
     "output_type": "execute_result"
    }
   ],
   "source": [
    "# generate_anomolous growth rate & rank\n",
    "'''\n",
    "spciesGR = []\n",
    "rank = []\n",
    "for i in range(ns):\n",
    "    spciesGR.append(generate_anomolous_species(ns, nr))\n",
    "    rank.append(generate_anomolous_nutrient_rank(ns, nr))\n",
    "'''"
   ]
  },
  {
   "cell_type": "code",
   "execution_count": 6,
   "id": "ae5fc87d",
   "metadata": {},
   "outputs": [],
   "source": [
    "def delta_n(n0,gr,t):\n",
    "    # n0,gr,t are all numbers\n",
    "    try:\n",
    "        delta_n = n0 * math.exp(gr * t) - n0 * math.exp(0)\n",
    "        return delta_n\n",
    "    except OverflowError:\n",
    "        print(\"OverflowError: Input value is too large for exponential calculation.\")\n",
    "        print(gr)\n",
    "        print(t)\n",
    "        return None"
   ]
  },
  {
   "cell_type": "code",
   "execution_count": 7,
   "id": "688f5ccd",
   "metadata": {},
   "outputs": [],
   "source": [
    "def delta_c(n0,gr,boolgr,delta_t,nri ,ns = 2):\n",
    "    # gr is a matrix for growth rate \n",
    "    # nri is the index of resource from 0 to nr-1\n",
    "    #boolgr is a vector to determine whether the bug is consuming the resource \n",
    "    ###### we need to figure how to generate boolgr\n",
    "    deltaC = 0\n",
    "    for i in range(ns):\n",
    "        deltaC = deltaC + boolgr[i]*delta_n(n0[i],gr[i][nri],delta_t)\n",
    "        #print(gr[i][nri])\n",
    "    return deltaC"
   ]
  },
  {
   "cell_type": "code",
   "execution_count": 8,
   "id": "8426fd16",
   "metadata": {},
   "outputs": [],
   "source": [
    "#####\n",
    "def find_root(f, low, high, precision):\n",
    "    while high - low > precision:\n",
    "        mid = (low + high) / 2.0\n",
    "        if f(mid) < 0:\n",
    "            low = mid\n",
    "        else:\n",
    "            high = mid\n",
    "    return (low + high) / 2.0"
   ]
  },
  {
   "cell_type": "code",
   "execution_count": 9,
   "id": "71dce519",
   "metadata": {},
   "outputs": [],
   "source": [
    "def runouttime(nri, boolgr, n0, s, gr):  \n",
    "    #calculate the runout time for the (nri+1)th neutrient\n",
    "    #n0(vec),s(number) remaining bug & neutrient concentration\n",
    "    #import scipy.optimize as optimize\n",
    "    if s < 0.0001:\n",
    "        solution = 0 \n",
    "    elif max(boolgr)==0:\n",
    "        solution = np.nan\n",
    "    else:\n",
    "        def equation(t):\n",
    "            deltaC = sum(boolgr[i] * delta_n(n0[i], gr[i][nri], t) for i in range(len(n0)))\n",
    "            return deltaC - s\n",
    "        #solution = optimize.fsolve(equation, 1.0)\n",
    "        solution = find_root(equation, 0, 100, 0.001)\n",
    "    if solution > 99:\n",
    "        print(s)\n",
    "        print(n0)\n",
    "        print(solution)\n",
    "        print(boolgr)\n",
    "    return solution"
   ]
  },
  {
   "cell_type": "markdown",
   "id": "16c6b3e0",
   "metadata": {},
   "source": [
    "### get_boolgr for diauxie"
   ]
  },
  {
   "cell_type": "code",
   "execution_count": 10,
   "id": "da2e3e1f",
   "metadata": {},
   "outputs": [],
   "source": [
    "def get_boolgr(rank, nri, c0,n0):\n",
    "    boolgr = []\n",
    "    # spic_resource[i] = k the i+1_th resource is used by the k+1_th species\n",
    "    for i in range(ns):\n",
    "        if n0[i] < 0.0000001:\n",
    "            boolgr.append(0)\n",
    "        elif rank[i][nri]<0.0000001 and c0[nri]>0:     #resource_rank1 remains\n",
    "            boolgr.append(1)\n",
    "            #spic_resource.append(i)\n",
    "        elif c0[rank[i][nri]-1] < 0.0000001 and c0[nri]>0:   #resource with higher rank ran out && this resource remains\n",
    "            boolgr.append(1)\n",
    "            #spic_resource.append(i)\n",
    "        else:\n",
    "            boolgr.append(0)\n",
    "    return boolgr"
   ]
  },
  {
   "cell_type": "code",
   "execution_count": 11,
   "id": "f4031e9f",
   "metadata": {},
   "outputs": [],
   "source": [
    "def sigma(s):\n",
    "    # Compute the squared differences\n",
    "    squared_diff = [(si - 1/3)**2 for si in s]\n",
    "    # Calculate the average of squared differences\n",
    "    average_squared_diff = np.mean(squared_diff)\n",
    "    # Calculate the standard deviation\n",
    "    sigma_RS = np.sqrt(average_squared_diff)\n",
    "    return sigma_RS"
   ]
  },
  {
   "cell_type": "code",
   "execution_count": 12,
   "id": "b9b8cf81",
   "metadata": {},
   "outputs": [],
   "source": [
    "def PseudoUniformSupply(size = 3, k = 0):\n",
    "    vector = np.random.uniform(k+0, k+10, size)\n",
    "    vector /= sum(vector)\n",
    "    return vector, sigma(vector)"
   ]
  },
  {
   "cell_type": "code",
   "execution_count": 13,
   "id": "9b99e577",
   "metadata": {},
   "outputs": [],
   "source": [
    "def normalize_vector(v):\n",
    "    sum_of_components = np.sum(v)\n",
    "    if sum_of_components == 0:\n",
    "        return v\n",
    "    elif sum_of_components>1000000000:\n",
    "        max_value = np.max(v)\n",
    "        max_index = np.argmax(v)\n",
    "        #print(max_value)\n",
    "        #print(max_index)\n",
    "        v = np.zeros(len(v))\n",
    "        v[max_index] = 1\n",
    "        return v\n",
    "    else:\n",
    "        return v / sum_of_components"
   ]
  },
  {
   "cell_type": "code",
   "execution_count": 14,
   "id": "09efce29",
   "metadata": {},
   "outputs": [
    {
     "data": {
      "text/plain": [
       "'\\nnr=4\\nns=3\\nrank = np.array([[1, 2, 4, 3],\\n       [3, 1, 2, 4],\\n       [4, 1, 3, 2]])\\n\\nrank = rank - 1\\n\\nprint(rank)\\nc0 = [12,13,1,4,2,3,5]\\nn0 = [1/3,1/3,1/3]\\n\\n#res_used_by = {}\\n\\n#for i in range(0, nr):\\n#    res_used_by[i] = []  \\n\\nfor nri in range(nr):\\n    #spic_resource = []\\n    boolgr = get_boolgr(rank, nri, c0,n0)\\n    print(boolgr)\\n#print(res_used_by)\\n'"
      ]
     },
     "execution_count": 14,
     "metadata": {},
     "output_type": "execute_result"
    }
   ],
   "source": [
    "###test get_boolgr\n",
    "'''\n",
    "nr=4\n",
    "ns=3\n",
    "rank = np.array([[1, 2, 4, 3],\n",
    "       [3, 1, 2, 4],\n",
    "       [4, 1, 3, 2]])\n",
    "\n",
    "rank = rank - 1\n",
    "\n",
    "print(rank)\n",
    "c0 = [12,13,1,4,2,3,5]\n",
    "n0 = [1/3,1/3,1/3]\n",
    "\n",
    "#res_used_by = {}\n",
    "\n",
    "#for i in range(0, nr):\n",
    "#    res_used_by[i] = []  \n",
    "\n",
    "for nri in range(nr):\n",
    "    #spic_resource = []\n",
    "    boolgr = get_boolgr(rank, nri, c0,n0)\n",
    "    print(boolgr)\n",
    "#print(res_used_by)\n",
    "'''"
   ]
  },
  {
   "cell_type": "code",
   "execution_count": 19,
   "id": "df920757",
   "metadata": {},
   "outputs": [],
   "source": [
    "def onecycle(n0new, c0new,spciesGR):\n",
    "    ### calculate the dynamic within one cycle\n",
    "    # n0 vector length ns\n",
    "    # c0 vector length nr\n",
    "    Nnich = 0\n",
    "    n0 = [n0new]\n",
    "    c0 = [c0new]\n",
    "    time_node = [0] ## time_node start from 0\n",
    "\n",
    "    while True:\n",
    "        boolgr = []\n",
    "        res_used_by = {}\n",
    "        for i in range(0, nr):\n",
    "            res_used_by[i] = [] \n",
    "        for i in range(nr):\n",
    "            boolgr_temp = get_boolgr(rank, i, c0[Nnich],n0[Nnich])\n",
    "            boolgr.append(boolgr_temp)\n",
    "            \n",
    "        runoutT = [round(runouttime(i, boolgr[i], n0[Nnich],c0[Nnich][i],spciesGR),3) for i in range(nr)]\n",
    "        #print(runoutT)\n",
    "        try:\n",
    "            deltaT, runout_index = min((val, idx) for (idx, val) in enumerate(runoutT) if val > 0.001)\n",
    "        except ValueError:\n",
    "            break\n",
    "            \n",
    "        time_node.append(float(deltaT+time_node[Nnich]))\n",
    "\n",
    "        next_n0 = [n0[Nnich][i] + sum(delta_n(n0[Nnich][i],spciesGR[i][j],deltaT)*boolgr[j][i] for j in range(nr)) for i in range(ns)]\n",
    "        n0.append(next_n0) \n",
    "    \n",
    "        next_c0 = [round((c0[Nnich][j]-delta_c(n0[Nnich],spciesGR,boolgr[j],deltaT,j,ns)),3)for j in range(nr)]\n",
    "        c0.append(next_c0) \n",
    "        #print(next_c0)\n",
    "        #print(c0[Nnich+1])\n",
    "        if all(element < 0.001 for element in c0[Nnich+1]):\n",
    "            break\n",
    "\n",
    "        Nnich += 1\n",
    "    #print(Nnich)\n",
    "    return n0, c0, time_node"
   ]
  },
  {
   "cell_type": "markdown",
   "id": "5724666c",
   "metadata": {},
   "source": [
    "### read pickle file"
   ]
  },
  {
   "cell_type": "code",
   "execution_count": 20,
   "id": "609971db",
   "metadata": {},
   "outputs": [],
   "source": [
    "import pickle\n",
    "\n",
    "# Open the .pkl file in binary mode for reading\n",
    "with open('3N4R_success_comm.pkl', 'rb') as file:\n",
    "    # Load the object from the file\n",
    "    data = pickle.load(file)"
   ]
  },
  {
   "cell_type": "code",
   "execution_count": 21,
   "id": "030b9ecd",
   "metadata": {},
   "outputs": [
    {
     "name": "stdout",
     "output_type": "stream",
     "text": [
      "9670\n"
     ]
    }
   ],
   "source": [
    "print(len(data))"
   ]
  },
  {
   "cell_type": "code",
   "execution_count": null,
   "id": "78ecf4ba",
   "metadata": {
    "scrolled": false
   },
   "outputs": [
    {
     "name": "stdout",
     "output_type": "stream",
     "text": [
      "surive num of the 2000 th trial is 1.000000\n",
      "surive num of the 2001 th trial is 1.000000\n",
      "surive num of the 2002 th trial is 1.000000\n",
      "surive num of the 2003 th trial is 1.000000\n",
      "surive num of the 2004 th trial is 1.000000\n",
      "surive num of the 2005 th trial is 1.000000\n",
      "surive num of the 2006 th trial is 2.000000\n",
      "surive num of the 2007 th trial is 1.000000\n",
      "surive num of the 2008 th trial is 1.000000\n",
      "surive num of the 2009 th trial is 1.000000\n",
      "surive num of the 2010 th trial is 1.000000\n",
      "surive num of the 2011 th trial is 1.000000\n",
      "surive num of the 2012 th trial is 1.000000\n",
      "surive num of the 2013 th trial is 1.000000\n",
      "surive num of the 2014 th trial is 1.000000\n",
      "surive num of the 2015 th trial is 1.000000\n",
      "surive num of the 2016 th trial is 1.000000\n",
      "surive num of the 2017 th trial is 1.000000\n",
      "surive num of the 2018 th trial is 1.000000\n",
      "surive num of the 2019 th trial is 1.000000\n",
      "surive num of the 2020 th trial is 1.000000\n",
      "surive num of the 2021 th trial is 1.000000\n",
      "surive num of the 2022 th trial is 1.000000\n",
      "surive num of the 2023 th trial is 1.000000\n",
      "surive num of the 2024 th trial is 1.000000\n",
      "surive num of the 2025 th trial is 1.000000\n",
      "surive num of the 2026 th trial is 1.000000\n",
      "surive num of the 2027 th trial is 1.000000\n",
      "surive num of the 2028 th trial is 1.000000\n",
      "surive num of the 2029 th trial is 1.000000\n",
      "surive num of the 2030 th trial is 1.000000\n",
      "surive num of the 2031 th trial is 1.000000\n",
      "surive num of the 2032 th trial is 2.000000\n",
      "surive num of the 2033 th trial is 1.000000\n",
      "surive num of the 2034 th trial is 2.000000\n",
      "surive num of the 2035 th trial is 1.000000\n",
      "surive num of the 2036 th trial is 1.000000\n",
      "surive num of the 2037 th trial is 1.000000\n",
      "surive num of the 2038 th trial is 1.000000\n",
      "surive num of the 2039 th trial is 1.000000\n",
      "surive num of the 2040 th trial is 1.000000\n",
      "surive num of the 2041 th trial is 1.000000\n",
      "surive num of the 2042 th trial is 1.000000\n",
      "surive num of the 2043 th trial is 1.000000\n",
      "surive num of the 2044 th trial is 1.000000\n",
      "surive num of the 2045 th trial is 1.000000\n",
      "surive num of the 2046 th trial is 1.000000\n",
      "surive num of the 2047 th trial is 1.000000\n",
      "surive num of the 2048 th trial is 1.000000\n",
      "surive num of the 2049 th trial is 2.000000\n",
      "surive num of the 2050 th trial is 1.000000\n",
      "surive num of the 2051 th trial is 1.000000\n",
      "surive num of the 2052 th trial is 1.000000\n"
     ]
    },
    {
     "name": "stderr",
     "output_type": "stream",
     "text": [
      "/var/folders/cd/5hbmg50x21dcv5w59_3cwdrm0000gn/T/ipykernel_3487/3873302760.py:4: RuntimeWarning: overflow encountered in double_scalars\n",
      "  delta_n = n0 * math.exp(gr * t) - n0 * math.exp(0)\n",
      "/var/folders/cd/5hbmg50x21dcv5w59_3cwdrm0000gn/T/ipykernel_3487/3510938873.py:11: RuntimeWarning: invalid value encountered in double_scalars\n",
      "  deltaC = sum(boolgr[i] * delta_n(n0[i], gr[i][nri], t) for i in range(len(n0)))\n",
      "/var/folders/cd/5hbmg50x21dcv5w59_3cwdrm0000gn/T/ipykernel_3487/1130543304.py:28: RuntimeWarning: invalid value encountered in double_scalars\n",
      "  next_n0 = [n0[Nnich][i] + sum(delta_n(n0[Nnich][i],spciesGR[i][j],deltaT)*boolgr[j][i] for j in range(nr)) for i in range(ns)]\n",
      "/var/folders/cd/5hbmg50x21dcv5w59_3cwdrm0000gn/T/ipykernel_3487/2214644443.py:8: RuntimeWarning: invalid value encountered in double_scalars\n",
      "  deltaC = deltaC + boolgr[i]*delta_n(n0[i],gr[i][nri],delta_t)\n"
     ]
    },
    {
     "name": "stdout",
     "output_type": "stream",
     "text": [
      "surive num of the 2053 th trial is 1.000000\n",
      "surive num of the 2054 th trial is 1.000000\n",
      "surive num of the 2055 th trial is 1.000000\n",
      "surive num of the 2056 th trial is 1.000000\n",
      "surive num of the 2057 th trial is 2.000000\n",
      "surive num of the 2058 th trial is 2.000000\n"
     ]
    }
   ],
   "source": [
    "##set up dilution factor \n",
    "DF = 100\n",
    "\n",
    "nr = 4\n",
    "ns = 3\n",
    "\n",
    "lendata = 9670\n",
    "#Ntr = 9\n",
    "\n",
    "stat = np.zeros(ns+1)\n",
    "\n",
    "start = 2000 \n",
    "for Ntr in range(start, start + 1000):\n",
    "\n",
    "    #set up initial population\n",
    "    n0 = [[]]\n",
    "    for i in range(ns):\n",
    "        n0[0].append(1/2/(DF-1))\n",
    "\n",
    "    ##set up sources suppliment\n",
    "    c0 = [[]]\n",
    "    for i in range(nr):\n",
    "        c0[0].append(1/nr)\n",
    "    #s = 1/ns\n",
    "\n",
    "    extinct_spicies = set()\n",
    "\n",
    "    time_node = [0]\n",
    "\n",
    "    #record Population fractions at the end of each growth cycle\n",
    "\n",
    "    populationEnd = []\n",
    "\n",
    "\n",
    "    # generate_unanomolous growth rate & rank\n",
    "    #spciesGR, rank = generate_random_vectors(ns, nr)\n",
    "    spciesGR = data[Ntr][\"g\"]\n",
    "    rank = data[Ntr][\"pref_list\"]\n",
    "    rank = rank - 1\n",
    "\n",
    "\n",
    "    #generate the first cycle\n",
    "    ntrial, ctrial, timenodetrial = onecycle(n0[0],c0[0],spciesGR)\n",
    "\n",
    "    log_N = normalize_vector(ntrial[-1])\n",
    "\n",
    "\n",
    "    #print(log_N)\n",
    "    populationEnd.append(np.round(log_N,3))\n",
    "\n",
    "\n",
    "    #generate other cycle\n",
    "    cycleNum = 1000\n",
    "\n",
    "    realcyc = 1\n",
    "\n",
    "    for k in range(cycleNum):\n",
    "        n0[0] = [element / DF for element in ntrial[-1]]\n",
    "        c0[0] , avg = PseudoUniformSupply(nr)\n",
    "        # visualize\n",
    "        ntrial, ctrial, timenodetrial = onecycle(np.round(n0[0],3),c0[0],spciesGR)\n",
    "\n",
    "        #print(ntrial[-1])\n",
    "        if max(ntrial[-1])<0.0000001:\n",
    "            populationEnd.append(np.round(ntrial[-1],3))\n",
    "            break\n",
    "        log_N = normalize_vector(ntrial[-1])\n",
    "\n",
    "\n",
    "        realcyc = realcyc + 1\n",
    "        populationEnd.append(np.round(log_N,3))\n",
    "\n",
    "\n",
    "\n",
    "    ### check survive\n",
    "    popul = np.transpose(populationEnd)\n",
    "\n",
    "\n",
    "    survNum = 0\n",
    "\n",
    "    if realcyc > cycleNum - 2:\n",
    "        for i in range(ns):\n",
    "            if popul[i][-1] > 0.000001:\n",
    "                survNum = survNum + 1\n",
    "    else:\n",
    "        survNum = 1\n",
    "    stat[int(survNum)] = stat[int(survNum)]+1\n",
    "    print(\"surive num of the %s th trial is %f\" %(Ntr,survNum))\n",
    "    \n",
    "print(stat)"
   ]
  },
  {
   "cell_type": "code",
   "execution_count": null,
   "id": "150dd165",
   "metadata": {},
   "outputs": [],
   "source": [
    "c = [np.nan,np.nan,np.nan]\n",
    "print(sum(c))"
   ]
  },
  {
   "cell_type": "markdown",
   "id": "ed504467",
   "metadata": {},
   "source": []
  }
 ],
 "metadata": {
  "kernelspec": {
   "display_name": "Python 3 (ipykernel)",
   "language": "python",
   "name": "python3"
  },
  "language_info": {
   "codemirror_mode": {
    "name": "ipython",
    "version": 3
   },
   "file_extension": ".py",
   "mimetype": "text/x-python",
   "name": "python",
   "nbconvert_exporter": "python",
   "pygments_lexer": "ipython3",
   "version": "3.9.13"
  }
 },
 "nbformat": 4,
 "nbformat_minor": 5
}
