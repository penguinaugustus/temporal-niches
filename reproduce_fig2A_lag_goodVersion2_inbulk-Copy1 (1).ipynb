{
 "cells": [
  {
   "cell_type": "code",
   "execution_count": 1,
   "id": "7a0a9fcf",
   "metadata": {},
   "outputs": [],
   "source": [
    "import numpy as np\n",
    "import math\n",
    "import scipy.optimize as optimize\n",
    "import matplotlib.pyplot as plt"
   ]
  },
  {
   "cell_type": "markdown",
   "id": "e3d55a5d",
   "metadata": {},
   "source": [
    "## generate pools\n",
    "\n",
    "for one pool(100 pools) with ns(5000) species, all species are not anomolous species. (consider add anomolous species) \n",
    "number of resources: nr ( nr = 1,2,...,7)\n",
    "\n",
    "we need generate the growth rate $g_{\\mu i}$. $\\sum_i g_{\\mu i}^2=1 \\mathrm{hr}^{-2}$"
   ]
  },
  {
   "cell_type": "code",
   "execution_count": 2,
   "id": "353e62bc",
   "metadata": {},
   "outputs": [],
   "source": [
    "def generate_anomolous_species(ns, nr):\n",
    "    vector = []\n",
    "    for _ in range(ns):\n",
    "        vector = np.random.uniform(0,1,size=nr)\n",
    "        vector /= np.linalg.norm(vector)\n",
    "        vectors.append(vector)\n",
    "    return vectors"
   ]
  },
  {
   "cell_type": "code",
   "execution_count": 3,
   "id": "90a5877e",
   "metadata": {},
   "outputs": [],
   "source": [
    "def generate_anomolous_nutrient_rank(ns, nr):\n",
    "    vectors = []\n",
    "    for _ in range(ns):\n",
    "        vector = random.sample(range(nr), nr)\n",
    "        vectors.append(vector)\n",
    "    return vectors"
   ]
  },
  {
   "cell_type": "code",
   "execution_count": 4,
   "id": "e95b7ccc",
   "metadata": {},
   "outputs": [],
   "source": [
    "def generate_random_vectors(ns, nr):\n",
    "    vectors = []\n",
    "    ranks = []\n",
    "\n",
    "    for _ in range(ns):\n",
    "        vector = np.random.uniform(0,1,size=nr)\n",
    "        vector /= np.linalg.norm(vector)\n",
    "        vectors.append(vector)\n",
    "\n",
    "        # Generate ranks\n",
    "        rank = np.argsort(-vector)\n",
    "        ranks.append(rank)\n",
    "\n",
    "    return vectors, ranks\n",
    "\n",
    "##the rank should be used like maxrate-vectors[rank[0]], secondrate-vectors[rank[1]]..."
   ]
  },
  {
   "cell_type": "code",
   "execution_count": 5,
   "id": "787bf673",
   "metadata": {},
   "outputs": [
    {
     "data": {
      "text/plain": [
       "'\\nspciesGR = []\\nrank = []\\nfor i in range(ns):\\n    spciesGR.append(generate_anomolous_species(ns, nr))\\n    rank.append(generate_anomolous_nutrient_rank(ns, nr))\\n'"
      ]
     },
     "execution_count": 5,
     "metadata": {},
     "output_type": "execute_result"
    }
   ],
   "source": [
    "# generate_anomolous growth rate & rank\n",
    "'''\n",
    "spciesGR = []\n",
    "rank = []\n",
    "for i in range(ns):\n",
    "    spciesGR.append(generate_anomolous_species(ns, nr))\n",
    "    rank.append(generate_anomolous_nutrient_rank(ns, nr))\n",
    "'''"
   ]
  },
  {
   "cell_type": "code",
   "execution_count": 6,
   "id": "ae5fc87d",
   "metadata": {},
   "outputs": [],
   "source": [
    "def delta_n(n0,gr,t):\n",
    "    # n0,gr,t are all numbers\n",
    "    try:\n",
    "        delta_n = n0 * math.exp(gr * t) - n0\n",
    "        #if t<0.000001:\n",
    "           # print(\"gr = %s\"%(gr))\n",
    "           # print(\"t = %s\"%(t))\n",
    "           # print(\"math.exp(gr * t) = %s\"%(math.exp(gr * t)))\n",
    "            #print(\"n0 = %s\"%(n0))\n",
    "            #print(\"delta_n = %s\"%(delta_n))\n",
    "        return delta_n\n",
    "    except OverflowError:\n",
    "        print(\"OverflowError: Input value is too large for exponential calculation.\")\n",
    "        print(gr)\n",
    "        print(t)\n",
    "        return None"
   ]
  },
  {
   "cell_type": "code",
   "execution_count": 7,
   "id": "688f5ccd",
   "metadata": {},
   "outputs": [],
   "source": [
    "def delta_c(n0,gr,boolgr,delta_t,nri ,ns):\n",
    "    # gr is a matrix for growth rate \n",
    "    # nri is the index of resource from 0 to nr-1\n",
    "    #boolgr is a vector to determine whether the bug is consuming the resource \n",
    "    ###### we need to figure how to generate boolgr\n",
    "    deltaC = 0\n",
    "    for i in range(ns):\n",
    "        deltaC = deltaC + boolgr[i]*delta_n(n0[i],gr[i][nri],delta_t)\n",
    "        #print(gr[i][nri])\n",
    "    return deltaC"
   ]
  },
  {
   "cell_type": "code",
   "execution_count": 8,
   "id": "8426fd16",
   "metadata": {},
   "outputs": [],
   "source": [
    "#####\n",
    "def find_root(f, low, high, precision):\n",
    "    while high - low > precision:\n",
    "        mid = (low + high) / 2.0\n",
    "        if f(mid) < 0:\n",
    "            low = mid\n",
    "        else:\n",
    "            high = mid\n",
    "    return (low + high) / 2.0"
   ]
  },
  {
   "cell_type": "markdown",
   "id": "10342456",
   "metadata": {},
   "source": [
    "### scipy.optimize.root"
   ]
  },
  {
   "cell_type": "code",
   "execution_count": 9,
   "id": "71dce519",
   "metadata": {},
   "outputs": [],
   "source": [
    "def runouttime(nri, boolgr, n0, s, gr):  \n",
    "    #calculate the runout time for the (nri+1)th neutrient\n",
    "    #n0(vec),s(number) remaining bug & neutrient concentration\n",
    "    #import scipy.optimize as optimize\n",
    "    if s < 0.000000000001:\n",
    "        solution = 0 \n",
    "    elif max(boolgr)==0:\n",
    "        solution = np.nan\n",
    "    else:\n",
    "        def equation(t):\n",
    "            deltaC = sum(boolgr[i] * delta_n(n0[i], gr[i][nri], t) for i in range(len(n0)))\n",
    "            return deltaC - s\n",
    "        #solution = optimize.fsolve(equation, 1.0)\n",
    "        solution = find_root(equation, 0, 100, 0.000000000001)\n",
    "        '''\n",
    "    if solution > 10:\n",
    "        print(\"consumption is:\")\n",
    "        print(sum(boolgr[i] * delta_n(n0[i], gr[i][nri], solution) for i in range(len(n0))))\n",
    "        print(\"resource left is %s\" %(s))\n",
    "    summ = sum(boolgr[i] * delta_n(n0[i], gr[i][nri], solution) for i in range(len(n0)))\n",
    "    if summ > 2:\n",
    "        print(\"__________________________\")\n",
    "        print(\"consumption is %s\"%(summ))\n",
    "        print(\"deltat is %s\"%(solution))\n",
    "        #for i in range(len(n0)):\n",
    "            #if boolgr[i]==1:\n",
    "                #print(delta_n(n0[i], gr[i][nri], solution))\n",
    "    '''\n",
    "    return solution"
   ]
  },
  {
   "cell_type": "markdown",
   "id": "16c6b3e0",
   "metadata": {},
   "source": [
    "### get_boolgr for diauxie"
   ]
  },
  {
   "cell_type": "code",
   "execution_count": 119,
   "id": "da2e3e1f",
   "metadata": {},
   "outputs": [],
   "source": [
    "def get_boolgr(rank, nsi, c0,n0):\n",
    "    boolgr = np.zeros(len(n0))\n",
    "    # spic_resource[i] = k the i+1_th resource is used by the k+1_th species\n",
    "    for i in range(nr):\n",
    "        if c0[rank[nsi][i]] > 0.000000000001:\n",
    "            boolgr[rank[nsi][i]]=1\n",
    "            break\n",
    "\n",
    "    if n0[nsi] < 0.000000000001:\n",
    "        boolgr = np.zeros(len(n0))\n",
    "\n",
    "    return boolgr"
   ]
  },
  {
   "cell_type": "code",
   "execution_count": 120,
   "id": "f4031e9f",
   "metadata": {},
   "outputs": [],
   "source": [
    "def sigma(s):\n",
    "    # Compute the squared differences\n",
    "    squared_diff = [(si - 1/3)**2 for si in s]\n",
    "    # Calculate the average of squared differences\n",
    "    average_squared_diff = np.mean(squared_diff)\n",
    "    # Calculate the standard deviation\n",
    "    sigma_RS = np.sqrt(average_squared_diff)\n",
    "    return sigma_RS"
   ]
  },
  {
   "cell_type": "code",
   "execution_count": 121,
   "id": "b9b8cf81",
   "metadata": {},
   "outputs": [],
   "source": [
    "def PseudoUniformSupply(size = 3, k = 0):\n",
    "    vector = np.random.uniform(k+0, k+10, size)\n",
    "    vector /= sum(vector)\n",
    "    return vector, sigma(vector)"
   ]
  },
  {
   "cell_type": "code",
   "execution_count": 122,
   "id": "9b99e577",
   "metadata": {},
   "outputs": [],
   "source": [
    "def normalize_vector(v):\n",
    "    sum_of_components = np.sum(v)\n",
    "    if sum_of_components == 0:\n",
    "        return v\n",
    "    elif sum_of_components>1000000000:\n",
    "        max_value = np.max(v)\n",
    "        max_index = np.argmax(v)\n",
    "        #print(max_value)\n",
    "        #print(max_index)\n",
    "        v = np.zeros(len(v))\n",
    "        v[max_index] = 1\n",
    "        return v\n",
    "    else:\n",
    "        return v / sum_of_components"
   ]
  },
  {
   "cell_type": "code",
   "execution_count": 123,
   "id": "d0de05ea-6e7c-4606-b732-8dda33bc8ffe",
   "metadata": {},
   "outputs": [
    {
     "name": "stdout",
     "output_type": "stream",
     "text": [
      "[0.93024013 0.06484497 0.00121237 0.00370253]\n"
     ]
    }
   ],
   "source": [
    "v = np.array([368.3750, 25.6786, 0.4801, 1.4662])\n",
    "print(normalize_vector(v))"
   ]
  },
  {
   "cell_type": "code",
   "execution_count": 124,
   "id": "09efce29",
   "metadata": {
    "scrolled": true
   },
   "outputs": [
    {
     "data": {
      "text/plain": [
       "'\\nnr=4\\nns=4\\nrank = np.array([[4, 2, 1, 3],\\n       [1, 2, 4, 3],\\n       [3, 2, 4, 1],\\n       [4, 1, 3, 2]])\\n\\nrank = rank - 1\\n#rank = rank.transpose()\\nprint(rank)\\nc0 = np.array([2.03166546, 1.76250143, 0.0492092 , 0.11662391])\\nn0 = [0.01,0.01,0.01,0.01]\\n\\n#res_used_by = {}\\n\\n#for i in range(0, nr):\\n#    res_used_by[i] = []  \\nhhh = []\\nfor nri in range(ns):\\n    #spic_resource = []\\n    boolgr = get_boolgr(rank, nri, c0,n0)\\n    hhh.append(boolgr)\\nprint(np.array(hhh).transpose())\\n'"
      ]
     },
     "execution_count": 124,
     "metadata": {},
     "output_type": "execute_result"
    }
   ],
   "source": [
    "###test get_boolgr\n",
    "'''\n",
    "nr=4\n",
    "ns=4\n",
    "rank = np.array([[4, 2, 1, 3],\n",
    "       [1, 2, 4, 3],\n",
    "       [3, 2, 4, 1],\n",
    "       [4, 1, 3, 2]])\n",
    "\n",
    "rank = rank - 1\n",
    "#rank = rank.transpose()\n",
    "print(rank)\n",
    "c0 = np.array([2.03166546, 1.76250143, 0.0492092 , 0.11662391])\n",
    "n0 = [0.01,0.01,0.01,0.01]\n",
    "\n",
    "#res_used_by = {}\n",
    "\n",
    "#for i in range(0, nr):\n",
    "#    res_used_by[i] = []  \n",
    "hhh = []\n",
    "for nri in range(ns):\n",
    "    #spic_resource = []\n",
    "    boolgr = get_boolgr(rank, nri, c0,n0)\n",
    "    hhh.append(boolgr)\n",
    "print(np.array(hhh).transpose())\n",
    "'''"
   ]
  },
  {
   "cell_type": "code",
   "execution_count": 125,
   "id": "d4d5ac71",
   "metadata": {},
   "outputs": [],
   "source": [
    "#print(boolgr.transpose())"
   ]
  },
  {
   "cell_type": "code",
   "execution_count": 138,
   "id": "df920757",
   "metadata": {},
   "outputs": [],
   "source": [
    "def onecycle(n0new, c0new,spciesGR,round1):\n",
    "    printround = 270\n",
    "    ### calculate the dynamic within one cycle\n",
    "    # n0 vector length ns\n",
    "    # c0 vector length nr\n",
    "    Nnich = 0\n",
    "    n0 = [n0new]\n",
    "    c0 = [c0new]\n",
    "    time_node = [0] ## time_node start from 0\n",
    "\n",
    "    while True:\n",
    "        boolgr = []\n",
    "        res_used_by = {}\n",
    "        for i in range(0, nr):\n",
    "            res_used_by[i] = [] \n",
    "        for i in range(ns):\n",
    "            boolgr_temp = get_boolgr(rank, i, c0[Nnich],n0[Nnich])\n",
    "            boolgr.append(boolgr_temp)\n",
    "        boolgr = np.array(boolgr).transpose() \n",
    "        #print(boolgr)\n",
    "        runoutT = [runouttime(i, boolgr[i], n0[Nnich],c0[Nnich][i],spciesGR) for i in range(nr)]\n",
    "        if round1 == printround:\n",
    "            print(\"t:\")\n",
    "            print(runoutT)\n",
    "        try:\n",
    "            deltaT, runout_index = min((val, idx) for (idx, val) in enumerate(runoutT) if val > 0.000000000001)\n",
    "            #deltaT, runout_index = min((val, idx) for (idx, val) in enumerate(runoutT))\n",
    "        except ValueError:\n",
    "            break\n",
    "        if round1 == printround:\n",
    "            print(\"deltaT:\")\n",
    "            print(deltaT)\n",
    "        time_node.append(float(deltaT+time_node[Nnich]))\n",
    "\n",
    "        next_n0 = [n0[Nnich][i] + sum(delta_n(n0[Nnich][i],spciesGR[i][j],deltaT)*boolgr[j][i] for j in range(nr)) for i in range(ns)]\n",
    "        '''\n",
    "        for i in range(ns):\n",
    "            summ = sum(delta_n(n0[Nnich][i],spciesGR[i][j],deltaT)*boolgr[j][i] for j in range(nr))\n",
    "            if summ > 2:\n",
    "                for j in range(nr):\n",
    "                    if boolgr[j][i] == 1:\n",
    "                        print(\"n0[Nnich][i] is %s\"%(n0[Nnich][i]))\n",
    "                        print(\"deltaT is %s\"%(deltaT))\n",
    "                        print(\"spciesGR[i][j] is %s\"%(spciesGR[i][j]))\n",
    "                        print(\"delta_n is %s\" %(delta_n(n0[Nnich][i],spciesGR[i][j],deltaT)))\n",
    "           '''             \n",
    "                        \n",
    "        n0.append(next_n0) \n",
    "    \n",
    "        next_c0 = [(c0[Nnich][j]-delta_c(n0[Nnich],spciesGR,boolgr[j],deltaT,j,ns))for j in range(nr)]\n",
    "        c0.append(next_c0) \n",
    "        #print(next_c0)\n",
    "        #print(c0[Nnich+1])\n",
    "        if round1 == printround:\n",
    "            print(\"@@@@@@@@@@@@@@@@@@@@@@\")\n",
    "            print(\"n0:\")\n",
    "            print(n0)\n",
    "            print(boolgr)\n",
    "            print(\"c0:\")\n",
    "            print(next_c0)\n",
    "            print(\"@@@@@@@@@@@@@@@@@@@@@@\")\n",
    "        if all(element < 0.000000000001 for element in c0[Nnich+1]):\n",
    "            break\n",
    "\n",
    "        Nnich += 1\n",
    "    if round1 == printround:\n",
    "        plt.plot(time_node, n0)\n",
    "    #print(\"______________\")\n",
    "    #print(time_node)\n",
    "\n",
    "    #print(Nnich)\n",
    "    #print(time_node[-1])\n",
    "    return n0, c0, time_node"
   ]
  },
  {
   "cell_type": "markdown",
   "id": "7fcb8acd",
   "metadata": {},
   "source": [
    "### read pickle file"
   ]
  },
  {
   "cell_type": "code",
   "execution_count": 139,
   "id": "609971db",
   "metadata": {},
   "outputs": [],
   "source": [
    "import pickle\n",
    "\n",
    "# Open the .pkl file in binary mode for reading\n",
    "with open('3N4R_success_comm.pkl', 'rb') as file:\n",
    "    # Load the object from the file\n",
    "    data = pickle.load(file)"
   ]
  },
  {
   "cell_type": "code",
   "execution_count": 140,
   "id": "78ecf4ba",
   "metadata": {
    "scrolled": true
   },
   "outputs": [
    {
     "name": "stdout",
     "output_type": "stream",
     "text": [
      "t:\n",
      "[1.3956890083054674, nan, nan, 1.6418307210106065]\n",
      "deltaT:\n",
      "1.3956890083054674\n",
      "@@@@@@@@@@@@@@@@@@@@@@\n",
      "n0:\n",
      "[[0.02589386544171173, 0.7988978480906695, 0, 0.0005487466442651073], [0.10994685591161638, 2.8305633080906403, 0.0, 0.0010539295246008618]]\n",
      "[[0. 1. 0. 0.]\n",
      " [0. 0. 0. 0.]\n",
      " [0. 0. 0. 0.]\n",
      " [1. 0. 0. 1.]]\n",
      "c0:\n",
      "[2.930988785010413e-14, 1.76250143, 0.0492092, 0.032065736649759605]\n",
      "@@@@@@@@@@@@@@@@@@@@@@\n",
      "t:\n",
      "[0, 0.3285957325015687, nan, 0.24614171270549434]\n",
      "deltaT:\n",
      "0.24614171270549434\n",
      "@@@@@@@@@@@@@@@@@@@@@@\n",
      "n0:\n",
      "[[0.02589386544171173, 0.7988978480906695, 0, 0.0005487466442651073], [0.10994685591161638, 2.8305633080906403, 0.0, 0.0010539295246008618], [0.14188402905760683, 4.067709729271092, 0.0, 0.0011824930283901112]]\n",
      "[[0. 0. 0. 0.]\n",
      " [0. 1. 0. 0.]\n",
      " [0. 0. 0. 0.]\n",
      " [1. 0. 0. 1.]]\n",
      "c0:\n",
      "[2.930988785010413e-14, 0.525355008819548, 0.0492092, -2.010197563961924e-14]\n",
      "@@@@@@@@@@@@@@@@@@@@@@\n",
      "t:\n",
      "[0, 0.08106024024208125, 4.101956702053755, 0]\n",
      "deltaT:\n",
      "0.08106024024208125\n",
      "@@@@@@@@@@@@@@@@@@@@@@\n",
      "n0:\n",
      "[[0.02589386544171173, 0.7988978480906695, 0, 0.0005487466442651073], [0.10994685591161638, 2.8305633080906403, 0.0, 0.0010539295246008618], [0.14188402905760683, 4.067709729271092, 0.0, 0.0011824930283901112], [0.1513050659132014, 4.583643701236617, 0.0, 0.0012735057692545276]]\n",
      "[[0. 0. 0. 0.]\n",
      " [1. 1. 0. 0.]\n",
      " [0. 0. 0. 1.]\n",
      " [0. 0. 0. 0.]]\n",
      "c0:\n",
      "[2.930988785010413e-14, -1.571076602147059e-12, 0.04911818725913558, -2.010197563961924e-14]\n",
      "@@@@@@@@@@@@@@@@@@@@@@\n",
      "t:\n",
      "[0, 0, 0.010603383683971401, 0]\n",
      "deltaT:\n",
      "0.010603383683971401\n",
      "@@@@@@@@@@@@@@@@@@@@@@\n",
      "n0:\n",
      "[[0.02589386544171173, 0.7988978480906695, 0, 0.0005487466442651073], [0.10994685591161638, 2.8305633080906403, 0.0, 0.0010539295246008618], [0.14188402905760683, 4.067709729271092, 0.0, 0.0011824930283901112], [0.1513050659132014, 4.583643701236617, 0.0, 0.0012735057692545276], [0.1525521137462822, 4.631502428475806, 0.0, 0.001285917957014966]]\n",
      "[[0. 0. 0. 0.]\n",
      " [0. 0. 0. 0.]\n",
      " [1. 1. 0. 1.]\n",
      " [0. 0. 0. 0.]]\n",
      "c0:\n",
      "[2.930988785010413e-14, -1.571076602147059e-12, -8.951450691796481e-13, -2.010197563961924e-14]\n",
      "@@@@@@@@@@@@@@@@@@@@@@\n"
     ]
    },
    {
     "name": "stderr",
     "output_type": "stream",
     "text": [
      "/var/folders/cd/5hbmg50x21dcv5w59_3cwdrm0000gn/T/ipykernel_37932/1643784605.py:4: RuntimeWarning: overflow encountered in double_scalars\n",
      "  delta_n = n0 * math.exp(gr * t) - n0\n",
      "/var/folders/cd/5hbmg50x21dcv5w59_3cwdrm0000gn/T/ipykernel_37932/2556694938.py:11: RuntimeWarning: invalid value encountered in double_scalars\n",
      "  deltaC = sum(boolgr[i] * delta_n(n0[i], gr[i][nri], t) for i in range(len(n0)))\n"
     ]
    },
    {
     "data": {
      "text/plain": [
       "'\\nsurvNum = 1\\n\\nif realcyc > cycleNum - 2:\\n    for i in range(ns):\\n        if populRelative[i][-1] > 0.000000000001:\\n            survNum = survNum + 1\\nelse:\\n    survNum = 1\\nstat[int(survNum)] = stat[int(survNum)]+1\\n#print(\"surive num of the %s th trial is %f\" %(Ntr,survNum))\\n\\n#print(stat)\\nif survNum == 0:\\n\\n    linear_space = np.linspace(1,realcyc ,realcyc)\\n\\n    for x in range(ns):\\n            #if x not in extinct_spicies:\\n            plt.plot(linear_space, populAbs[x])\\n\\n    #plt.plot(linear_space, popul[1])\\n\\n\\n    plt.ylim(0, 8)  # set the ylim to be -2 to 2\\n    plt.show()\\n\\n    #break\\n'"
      ]
     },
     "execution_count": 140,
     "metadata": {},
     "output_type": "execute_result"
    },
    {
     "data": {
      "image/png": "[encoded data removed]",
      "text/plain": [
       "<Figure size 640x480 with 1 Axes>"
      ]
     },
     "metadata": {},
     "output_type": "display_data"
    }
   ],
   "source": [
    "##set up dilution factor \n",
    "DF = 100\n",
    "\n",
    "nr = 4\n",
    "ns = 4\n",
    "\n",
    "lendata = 9670\n",
    "#Ntr = 32\n",
    "\n",
    "stat = np.zeros(ns+1)\n",
    "\n",
    "start = 5000 \n",
    "#for Ntr in range(start, lendata):\n",
    "\n",
    "#set up initial population\n",
    "n0 = [[]]\n",
    "for i in range(ns):\n",
    "    n0[0].append(0.01)\n",
    "    #n0[0].append(1/ns/(DF-1))\n",
    "#n0.append(0.01*np.ones(4))\n",
    "    \n",
    "##set up sources suppliment\n",
    "c0 = []\n",
    "#for i in range(nr):\n",
    "    #c0[0].append(1/nr)\n",
    "    \n",
    "c0.append([2.03166546, 1.76250143, 0.0492092 , 0.11662391])   \n",
    "#s = 1/ns\n",
    "#print(c0)\n",
    "extinct_spicies = set()\n",
    "\n",
    "time_node = [0]\n",
    "\n",
    "#record Population fractions at the end of each growth cycle\n",
    "\n",
    "populationEndRelative = []\n",
    "populationEndAbs = []\n",
    "\n",
    "# generate_unanomolous growth rate & rank\n",
    "#spciesGR, rank = generate_random_vectors(ns, nr)\n",
    "#spciesGR = data[Ntr][\"g\"]\n",
    "#rank = data[Ntr][\"pref_list\"]\n",
    "\n",
    "spciesGR = np.array([[1.4315281 , 0.79309012, 0.77410802, 1.036041  ],\n",
    "       [0.90636089, 1.47315291, 0.97959902, 0.47060371],\n",
    "       [1.02316842, 1.12677489, 0.69212893, 1.04252936],\n",
    "       [1.26681676, 0.70934528, 0.91473452, 0.46761421]])\n",
    "\n",
    "\n",
    "rank = np.array([[4, 2, 1, 3],\n",
    "       [1, 2, 4, 3],\n",
    "       [3, 2, 4, 1],\n",
    "       [4, 1, 3, 2]])\n",
    "\n",
    "rank = rank - 1\n",
    "\n",
    "#generate the first cycle\n",
    "ntrial, ctrial, timenodetrial = onecycle(n0[0],c0[0],spciesGR,1)\n",
    "\n",
    "populationEndAbs.append(ntrial[-1])\n",
    "\n",
    "log_N = normalize_vector(ntrial[-1])\n",
    "#print(log_N)\n",
    "populationEndRelative.append(log_N)\n",
    "\n",
    "#generate other cycle\n",
    "cycleNum = 500\n",
    "\n",
    "realcyc = 1\n",
    "\n",
    "for k in range(cycleNum):\n",
    "    n0temp = []\n",
    "    for i in range(len(ntrial[-1])):\n",
    "        if ntrial[-1][i]<0.000000000001:\n",
    "            n0temp.append(0)\n",
    "        else:\n",
    "            n0temp.append(ntrial[-1][i]/ DF)\n",
    "    n0[0] = n0temp\n",
    "    #print(n0[0])\n",
    "    #c0[0] , avg = PseudoUniformSupply(nr)\n",
    "    # visualize\n",
    "\n",
    "    ntrial, ctrial, timenodetrial = onecycle(n0[0],c0[0],spciesGR,k)\n",
    "\n",
    "    #print(ntrial[-1])\n",
    "    if max(ntrial[-1])<0.000000000001:\n",
    "        populationEndRelative.append(ntrial[-1])\n",
    "        break\n",
    "    log_N = normalize_vector(ntrial[-1])\n",
    "\n",
    "    realcyc = realcyc + 1\n",
    "    populationEndAbs.append(ntrial[-1])\n",
    "    populationEndRelative.append(log_N)\n",
    "\n",
    "\n",
    "### check survive\n",
    "populRelative = np.transpose(populationEndRelative)\n",
    "populAbs = np.transpose(populationEndAbs)\n",
    "\n",
    "'''\n",
    "survNum = 1\n",
    "\n",
    "if realcyc > cycleNum - 2:\n",
    "    for i in range(ns):\n",
    "        if populRelative[i][-1] > 0.000000000001:\n",
    "            survNum = survNum + 1\n",
    "else:\n",
    "    survNum = 1\n",
    "stat[int(survNum)] = stat[int(survNum)]+1\n",
    "#print(\"surive num of the %s th trial is %f\" %(Ntr,survNum))\n",
    "\n",
    "#print(stat)\n",
    "if survNum == 0:\n",
    "\n",
    "    linear_space = np.linspace(1,realcyc ,realcyc)\n",
    "\n",
    "    for x in range(ns):\n",
    "            #if x not in extinct_spicies:\n",
    "            plt.plot(linear_space, populAbs[x])\n",
    "\n",
    "    #plt.plot(linear_space, popul[1])\n",
    "\n",
    "\n",
    "    plt.ylim(0, 8)  # set the ylim to be -2 to 2\n",
    "    plt.show()\n",
    "\n",
    "    #break\n",
    "'''"
   ]
  },
  {
   "cell_type": "code",
   "execution_count": 141,
   "id": "2536dd98",
   "metadata": {
    "scrolled": true
   },
   "outputs": [
    {
     "name": "stdout",
     "output_type": "stream",
     "text": [
      "[0. 0. 0. 0. 0.]\n"
     ]
    }
   ],
   "source": [
    "print(stat)"
   ]
  },
  {
   "cell_type": "code",
   "execution_count": 142,
   "id": "d0e13de6",
   "metadata": {},
   "outputs": [
    {
     "data": {
      "image/png": "[encoded data removed]",
      "text/plain": [
       "<Figure size 640x480 with 1 Axes>"
      ]
     },
     "metadata": {},
     "output_type": "display_data"
    }
   ],
   "source": [
    "linear_space = np.linspace(1,realcyc ,realcyc)\n",
    "\n",
    "\n",
    "for x in range(ns):\n",
    "        #if x not in extinct_spicies:\n",
    "    plt.plot(linear_space, populRelative[x])\n",
    "     \n",
    "#plt.plot(linear_space, popul[1])\n",
    "\n",
    "plt.title(\"4 spcies and 4 resorces\")\n",
    "plt.xlabel(\"growth cycle\")\n",
    "plt.ylabel(\"population fraction\")\n",
    "\n",
    "plt.ylim(0, 1.1)  # set the ylim to be -2 to 2\n",
    "plt.show()"
   ]
  },
  {
   "cell_type": "code",
   "execution_count": 137,
   "id": "c220191d",
   "metadata": {
    "scrolled": true
   },
   "outputs": [
    {
     "data": {
      "image/png": "[encoded data removed]",
      "text/plain": [
       "<Figure size 640x480 with 1 Axes>"
      ]
     },
     "metadata": {},
     "output_type": "display_data"
    }
   ],
   "source": [
    "linear_space = np.linspace(1,realcyc ,realcyc)\n",
    "\n",
    "for x in range(ns):\n",
    "        #if x not in extinct_spicies:\n",
    "    plt.plot(linear_space, populAbs[x])\n",
    "#plt.plot(linear_space, populAbs[1])\n",
    "#plt.plot(linear_space, popul[1])\n",
    "\n",
    "\n",
    "#plt.ylim(0, 1.5)  # set the ylim to be -2 to 2\n",
    "plt.show()"
   ]
  },
  {
   "cell_type": "code",
   "execution_count": 110,
   "id": "aa45d198",
   "metadata": {
    "scrolled": true
   },
   "outputs": [
    {
     "name": "stdout",
     "output_type": "stream",
     "text": [
      "1185008.4231378504\n"
     ]
    }
   ],
   "source": [
    "print(populAbs[1][273])"
   ]
  },
  {
   "cell_type": "code",
   "execution_count": 24,
   "id": "d472fa3c-0ca2-4d96-9dfc-cd47f21b1082",
   "metadata": {},
   "outputs": [
    {
     "name": "stdout",
     "output_type": "stream",
     "text": [
      "[   0 1037 6911 1722]\n"
     ]
    }
   ],
   "source": [
    "A = np.array([   0,  528, 3572,  900])\n",
    "B = np.array([   0,  509, 3339,  822])\n",
    "c = A+B\n",
    "print(c)"
   ]
  },
  {
   "cell_type": "code",
   "execution_count": 25,
   "id": "10c85a52-ae4c-422a-b83a-e818ebd10361",
   "metadata": {},
   "outputs": [
    {
     "name": "stdout",
     "output_type": "stream",
     "text": [
      "[0.01 0.01 0.01 0.01]\n"
     ]
    }
   ],
   "source": [
    "print(0.01*np.ones(4))"
   ]
  },
  {
   "cell_type": "code",
   "execution_count": 26,
   "id": "b59bbe20-135e-4215-82e0-1e9864eedaf8",
   "metadata": {},
   "outputs": [
    {
     "name": "stdout",
     "output_type": "stream",
     "text": [
      "0.178076525336091\n"
     ]
    }
   ],
   "source": [
    "print(1722/9670)"
   ]
  },
  {
   "cell_type": "code",
   "execution_count": 27,
   "id": "90b386ca-4f18-437b-ac82-b745b4db4585",
   "metadata": {},
   "outputs": [
    {
     "name": "stdout",
     "output_type": "stream",
     "text": [
      "1e-12\n"
     ]
    }
   ],
   "source": [
    "print(0.000000000001)"
   ]
  },
  {
   "cell_type": "code",
   "execution_count": 28,
   "id": "d8d0e025-ce07-45a0-8d04-086a2ed0bd97",
   "metadata": {},
   "outputs": [
    {
     "ename": "SyntaxError",
     "evalue": "invalid syntax (1766852389.py, line 1)",
     "output_type": "error",
     "traceback": [
      "\u001b[0;36m  File \u001b[0;32m\"/var/folders/cd/5hbmg50x21dcv5w59_3cwdrm0000gn/T/ipykernel_37932/1766852389.py\"\u001b[0;36m, line \u001b[0;32m1\u001b[0m\n\u001b[0;31m    [   0.  528. 3572.  900.]\u001b[0m\n\u001b[0m            ^\u001b[0m\n\u001b[0;31mSyntaxError\u001b[0m\u001b[0;31m:\u001b[0m invalid syntax\n"
     ]
    }
   ],
   "source": [
    "[   0.  528. 3572.  900.]"
   ]
  }
 ],
 "metadata": {
  "kernelspec": {
   "display_name": "Python 3 (ipykernel)",
   "language": "python",
   "name": "python3"
  },
  "language_info": {
   "codemirror_mode": {
    "name": "ipython",
    "version": 3
   },
   "file_extension": ".py",
   "mimetype": "text/x-python",
   "name": "python",
   "nbconvert_exporter": "python",
   "pygments_lexer": "ipython3",
   "version": "3.9.13"
  }
 },
 "nbformat": 4,
 "nbformat_minor": 5
}
